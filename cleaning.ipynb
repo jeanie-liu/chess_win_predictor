{
 "cells": [
  {
   "cell_type": "code",
   "execution_count": 1,
   "id": "a57acad5",
   "metadata": {},
   "outputs": [],
   "source": [
    "#import requests\n",
    "#from bs4 import BeautifulSoup\n",
    "\n",
    "import pandas as pd\n",
    "import numpy as np\n",
    "import time\n",
    "\n",
    "import seaborn\n",
    "from matplotlib import pyplot\n",
    "\n",
    "from sklearn.linear_model import LogisticRegression\n",
    "\n",
    "%load_ext sql\n",
    "\n",
    "%config SqlMagic.autopandas = True\n",
    "%config SqlMagic.feedback = False\n",
    "%config SqlMagic.displaycon = False\n",
    "\n",
    "%sql duckdb:///:memory:"
   ]
  },
  {
   "cell_type": "code",
   "execution_count": 2,
   "id": "7daefe44",
   "metadata": {},
   "outputs": [
    {
     "ename": "FileNotFoundError",
     "evalue": "[Errno 2] No such file or directory: 'chess_games.csv'",
     "output_type": "error",
     "traceback": [
      "\u001b[0;31m---------------------------------------------------------------------------\u001b[0m",
      "\u001b[0;31mFileNotFoundError\u001b[0m                         Traceback (most recent call last)",
      "\u001b[1;32m/Users/jonathangotian/Desktop/Cornell/Academics/Fall 2022/INFO 2950 - Intro to Data Science/GitHub/info2950-project/cleaning.ipynb Cell 2\u001b[0m in \u001b[0;36m<cell line: 1>\u001b[0;34m()\u001b[0m\n\u001b[0;32m----> <a href='vscode-notebook-cell:/Users/jonathangotian/Desktop/Cornell/Academics/Fall%202022/INFO%202950%20-%20Intro%20to%20Data%20Science/GitHub/info2950-project/cleaning.ipynb#W1sZmlsZQ%3D%3D?line=0'>1</a>\u001b[0m chess_games \u001b[39m=\u001b[39m pd\u001b[39m.\u001b[39;49mread_csv(\u001b[39m'\u001b[39;49m\u001b[39mchess_games.csv\u001b[39;49m\u001b[39m'\u001b[39;49m)\n",
      "File \u001b[0;32m~/opt/anaconda3/envs/info2950/lib/python3.8/site-packages/pandas/util/_decorators.py:311\u001b[0m, in \u001b[0;36mdeprecate_nonkeyword_arguments.<locals>.decorate.<locals>.wrapper\u001b[0;34m(*args, **kwargs)\u001b[0m\n\u001b[1;32m    305\u001b[0m \u001b[39mif\u001b[39;00m \u001b[39mlen\u001b[39m(args) \u001b[39m>\u001b[39m num_allow_args:\n\u001b[1;32m    306\u001b[0m     warnings\u001b[39m.\u001b[39mwarn(\n\u001b[1;32m    307\u001b[0m         msg\u001b[39m.\u001b[39mformat(arguments\u001b[39m=\u001b[39marguments),\n\u001b[1;32m    308\u001b[0m         \u001b[39mFutureWarning\u001b[39;00m,\n\u001b[1;32m    309\u001b[0m         stacklevel\u001b[39m=\u001b[39mstacklevel,\n\u001b[1;32m    310\u001b[0m     )\n\u001b[0;32m--> 311\u001b[0m \u001b[39mreturn\u001b[39;00m func(\u001b[39m*\u001b[39;49margs, \u001b[39m*\u001b[39;49m\u001b[39m*\u001b[39;49mkwargs)\n",
      "File \u001b[0;32m~/opt/anaconda3/envs/info2950/lib/python3.8/site-packages/pandas/io/parsers/readers.py:680\u001b[0m, in \u001b[0;36mread_csv\u001b[0;34m(filepath_or_buffer, sep, delimiter, header, names, index_col, usecols, squeeze, prefix, mangle_dupe_cols, dtype, engine, converters, true_values, false_values, skipinitialspace, skiprows, skipfooter, nrows, na_values, keep_default_na, na_filter, verbose, skip_blank_lines, parse_dates, infer_datetime_format, keep_date_col, date_parser, dayfirst, cache_dates, iterator, chunksize, compression, thousands, decimal, lineterminator, quotechar, quoting, doublequote, escapechar, comment, encoding, encoding_errors, dialect, error_bad_lines, warn_bad_lines, on_bad_lines, delim_whitespace, low_memory, memory_map, float_precision, storage_options)\u001b[0m\n\u001b[1;32m    665\u001b[0m kwds_defaults \u001b[39m=\u001b[39m _refine_defaults_read(\n\u001b[1;32m    666\u001b[0m     dialect,\n\u001b[1;32m    667\u001b[0m     delimiter,\n\u001b[0;32m   (...)\u001b[0m\n\u001b[1;32m    676\u001b[0m     defaults\u001b[39m=\u001b[39m{\u001b[39m\"\u001b[39m\u001b[39mdelimiter\u001b[39m\u001b[39m\"\u001b[39m: \u001b[39m\"\u001b[39m\u001b[39m,\u001b[39m\u001b[39m\"\u001b[39m},\n\u001b[1;32m    677\u001b[0m )\n\u001b[1;32m    678\u001b[0m kwds\u001b[39m.\u001b[39mupdate(kwds_defaults)\n\u001b[0;32m--> 680\u001b[0m \u001b[39mreturn\u001b[39;00m _read(filepath_or_buffer, kwds)\n",
      "File \u001b[0;32m~/opt/anaconda3/envs/info2950/lib/python3.8/site-packages/pandas/io/parsers/readers.py:575\u001b[0m, in \u001b[0;36m_read\u001b[0;34m(filepath_or_buffer, kwds)\u001b[0m\n\u001b[1;32m    572\u001b[0m _validate_names(kwds\u001b[39m.\u001b[39mget(\u001b[39m\"\u001b[39m\u001b[39mnames\u001b[39m\u001b[39m\"\u001b[39m, \u001b[39mNone\u001b[39;00m))\n\u001b[1;32m    574\u001b[0m \u001b[39m# Create the parser.\u001b[39;00m\n\u001b[0;32m--> 575\u001b[0m parser \u001b[39m=\u001b[39m TextFileReader(filepath_or_buffer, \u001b[39m*\u001b[39;49m\u001b[39m*\u001b[39;49mkwds)\n\u001b[1;32m    577\u001b[0m \u001b[39mif\u001b[39;00m chunksize \u001b[39mor\u001b[39;00m iterator:\n\u001b[1;32m    578\u001b[0m     \u001b[39mreturn\u001b[39;00m parser\n",
      "File \u001b[0;32m~/opt/anaconda3/envs/info2950/lib/python3.8/site-packages/pandas/io/parsers/readers.py:934\u001b[0m, in \u001b[0;36mTextFileReader.__init__\u001b[0;34m(self, f, engine, **kwds)\u001b[0m\n\u001b[1;32m    931\u001b[0m     \u001b[39mself\u001b[39m\u001b[39m.\u001b[39moptions[\u001b[39m\"\u001b[39m\u001b[39mhas_index_names\u001b[39m\u001b[39m\"\u001b[39m] \u001b[39m=\u001b[39m kwds[\u001b[39m\"\u001b[39m\u001b[39mhas_index_names\u001b[39m\u001b[39m\"\u001b[39m]\n\u001b[1;32m    933\u001b[0m \u001b[39mself\u001b[39m\u001b[39m.\u001b[39mhandles: IOHandles \u001b[39m|\u001b[39m \u001b[39mNone\u001b[39;00m \u001b[39m=\u001b[39m \u001b[39mNone\u001b[39;00m\n\u001b[0;32m--> 934\u001b[0m \u001b[39mself\u001b[39m\u001b[39m.\u001b[39m_engine \u001b[39m=\u001b[39m \u001b[39mself\u001b[39;49m\u001b[39m.\u001b[39;49m_make_engine(f, \u001b[39mself\u001b[39;49m\u001b[39m.\u001b[39;49mengine)\n",
      "File \u001b[0;32m~/opt/anaconda3/envs/info2950/lib/python3.8/site-packages/pandas/io/parsers/readers.py:1218\u001b[0m, in \u001b[0;36mTextFileReader._make_engine\u001b[0;34m(self, f, engine)\u001b[0m\n\u001b[1;32m   1214\u001b[0m     mode \u001b[39m=\u001b[39m \u001b[39m\"\u001b[39m\u001b[39mrb\u001b[39m\u001b[39m\"\u001b[39m\n\u001b[1;32m   1215\u001b[0m \u001b[39m# error: No overload variant of \"get_handle\" matches argument types\u001b[39;00m\n\u001b[1;32m   1216\u001b[0m \u001b[39m# \"Union[str, PathLike[str], ReadCsvBuffer[bytes], ReadCsvBuffer[str]]\"\u001b[39;00m\n\u001b[1;32m   1217\u001b[0m \u001b[39m# , \"str\", \"bool\", \"Any\", \"Any\", \"Any\", \"Any\", \"Any\"\u001b[39;00m\n\u001b[0;32m-> 1218\u001b[0m \u001b[39mself\u001b[39m\u001b[39m.\u001b[39mhandles \u001b[39m=\u001b[39m get_handle(  \u001b[39m# type: ignore[call-overload]\u001b[39;49;00m\n\u001b[1;32m   1219\u001b[0m     f,\n\u001b[1;32m   1220\u001b[0m     mode,\n\u001b[1;32m   1221\u001b[0m     encoding\u001b[39m=\u001b[39;49m\u001b[39mself\u001b[39;49m\u001b[39m.\u001b[39;49moptions\u001b[39m.\u001b[39;49mget(\u001b[39m\"\u001b[39;49m\u001b[39mencoding\u001b[39;49m\u001b[39m\"\u001b[39;49m, \u001b[39mNone\u001b[39;49;00m),\n\u001b[1;32m   1222\u001b[0m     compression\u001b[39m=\u001b[39;49m\u001b[39mself\u001b[39;49m\u001b[39m.\u001b[39;49moptions\u001b[39m.\u001b[39;49mget(\u001b[39m\"\u001b[39;49m\u001b[39mcompression\u001b[39;49m\u001b[39m\"\u001b[39;49m, \u001b[39mNone\u001b[39;49;00m),\n\u001b[1;32m   1223\u001b[0m     memory_map\u001b[39m=\u001b[39;49m\u001b[39mself\u001b[39;49m\u001b[39m.\u001b[39;49moptions\u001b[39m.\u001b[39;49mget(\u001b[39m\"\u001b[39;49m\u001b[39mmemory_map\u001b[39;49m\u001b[39m\"\u001b[39;49m, \u001b[39mFalse\u001b[39;49;00m),\n\u001b[1;32m   1224\u001b[0m     is_text\u001b[39m=\u001b[39;49mis_text,\n\u001b[1;32m   1225\u001b[0m     errors\u001b[39m=\u001b[39;49m\u001b[39mself\u001b[39;49m\u001b[39m.\u001b[39;49moptions\u001b[39m.\u001b[39;49mget(\u001b[39m\"\u001b[39;49m\u001b[39mencoding_errors\u001b[39;49m\u001b[39m\"\u001b[39;49m, \u001b[39m\"\u001b[39;49m\u001b[39mstrict\u001b[39;49m\u001b[39m\"\u001b[39;49m),\n\u001b[1;32m   1226\u001b[0m     storage_options\u001b[39m=\u001b[39;49m\u001b[39mself\u001b[39;49m\u001b[39m.\u001b[39;49moptions\u001b[39m.\u001b[39;49mget(\u001b[39m\"\u001b[39;49m\u001b[39mstorage_options\u001b[39;49m\u001b[39m\"\u001b[39;49m, \u001b[39mNone\u001b[39;49;00m),\n\u001b[1;32m   1227\u001b[0m )\n\u001b[1;32m   1228\u001b[0m \u001b[39massert\u001b[39;00m \u001b[39mself\u001b[39m\u001b[39m.\u001b[39mhandles \u001b[39mis\u001b[39;00m \u001b[39mnot\u001b[39;00m \u001b[39mNone\u001b[39;00m\n\u001b[1;32m   1229\u001b[0m f \u001b[39m=\u001b[39m \u001b[39mself\u001b[39m\u001b[39m.\u001b[39mhandles\u001b[39m.\u001b[39mhandle\n",
      "File \u001b[0;32m~/opt/anaconda3/envs/info2950/lib/python3.8/site-packages/pandas/io/common.py:786\u001b[0m, in \u001b[0;36mget_handle\u001b[0;34m(path_or_buf, mode, encoding, compression, memory_map, is_text, errors, storage_options)\u001b[0m\n\u001b[1;32m    781\u001b[0m \u001b[39melif\u001b[39;00m \u001b[39misinstance\u001b[39m(handle, \u001b[39mstr\u001b[39m):\n\u001b[1;32m    782\u001b[0m     \u001b[39m# Check whether the filename is to be opened in binary mode.\u001b[39;00m\n\u001b[1;32m    783\u001b[0m     \u001b[39m# Binary mode does not support 'encoding' and 'newline'.\u001b[39;00m\n\u001b[1;32m    784\u001b[0m     \u001b[39mif\u001b[39;00m ioargs\u001b[39m.\u001b[39mencoding \u001b[39mand\u001b[39;00m \u001b[39m\"\u001b[39m\u001b[39mb\u001b[39m\u001b[39m\"\u001b[39m \u001b[39mnot\u001b[39;00m \u001b[39min\u001b[39;00m ioargs\u001b[39m.\u001b[39mmode:\n\u001b[1;32m    785\u001b[0m         \u001b[39m# Encoding\u001b[39;00m\n\u001b[0;32m--> 786\u001b[0m         handle \u001b[39m=\u001b[39m \u001b[39mopen\u001b[39;49m(\n\u001b[1;32m    787\u001b[0m             handle,\n\u001b[1;32m    788\u001b[0m             ioargs\u001b[39m.\u001b[39;49mmode,\n\u001b[1;32m    789\u001b[0m             encoding\u001b[39m=\u001b[39;49mioargs\u001b[39m.\u001b[39;49mencoding,\n\u001b[1;32m    790\u001b[0m             errors\u001b[39m=\u001b[39;49merrors,\n\u001b[1;32m    791\u001b[0m             newline\u001b[39m=\u001b[39;49m\u001b[39m\"\u001b[39;49m\u001b[39m\"\u001b[39;49m,\n\u001b[1;32m    792\u001b[0m         )\n\u001b[1;32m    793\u001b[0m     \u001b[39melse\u001b[39;00m:\n\u001b[1;32m    794\u001b[0m         \u001b[39m# Binary mode\u001b[39;00m\n\u001b[1;32m    795\u001b[0m         handle \u001b[39m=\u001b[39m \u001b[39mopen\u001b[39m(handle, ioargs\u001b[39m.\u001b[39mmode)\n",
      "\u001b[0;31mFileNotFoundError\u001b[0m: [Errno 2] No such file or directory: 'chess_games.csv'"
     ]
    }
   ],
   "source": [
    "chess_games = pd.read_csv('chess_games.csv')"
   ]
  },
  {
   "cell_type": "code",
   "execution_count": null,
   "id": "5f3ee458",
   "metadata": {},
   "outputs": [],
   "source": [
    "#Data Cleaning - convert date and time columns to datatime objects\n",
    "chess_games['UTCDate'] = pd.to_datetime(chess_games['UTCDate'])\n",
    "chess_games['UTCTime'] = pd.to_datetime(chess_games['UTCTime'])\n",
    "\n",
    "#display(chess_games)\n",
    "#chess_games['Event'] = chess_games['Event'].astype(str)\n",
    "\n",
    "#chess_games['ECO'] = chess_games['ECO'].astype('|S')\n",
    "display(chess_games.head())\n",
    "print(chess_games.dtypes)"
   ]
  },
  {
   "cell_type": "code",
   "execution_count": null,
   "id": "af011fb9",
   "metadata": {},
   "outputs": [],
   "source": [
    "#checking for unusual values\n",
    "#%sql SELECT * FROM chess_games WHERE Result = '*'\n",
    "#%sql SELECT DISTINCT Termination FROM chess_games\n",
    "#%sql SELECT * FROM chess_games WHERE Termination = 'Rules infraction'\n",
    "\n",
    "#filter out Termination = Abandoned, Rules infraction, filtering out TimeControl = '-'\n",
    "#checking that there are no games where result is * (meaning incomplete)\n",
    "completed_chess_games = %sql SELECT * FROM chess_games \\\n",
    "WHERE Termination NOT IN ('Abandoned', 'Rules Infraction') \\\n",
    "    AND TimeControl != '-' \\\n",
    "    AND Result != '*'\n",
    "\n",
    "\n",
    "#display(completed_chess_games.head())\n",
    "\n",
    "\n",
    "\n",
    "#separating TimeControl into 2 columns (base & additional)"
   ]
  },
  {
   "cell_type": "code",
   "execution_count": null,
   "id": "32a8ce41",
   "metadata": {},
   "outputs": [],
   "source": [
    "#filter out all NaN values\n",
    "completed_chess_games = completed_chess_games.dropna()\n",
    "completed_chess_games.head()"
   ]
  },
  {
   "cell_type": "code",
   "execution_count": null,
   "id": "2b26e20c",
   "metadata": {},
   "outputs": [],
   "source": [
    "#separating TimeControl into 2 columns (base & additional)\n",
    "TOP_completed_chess_games = completed_chess_games.head(10)"
   ]
  },
  {
   "cell_type": "code",
   "execution_count": null,
   "id": "adc0874a",
   "metadata": {},
   "outputs": [],
   "source": [
    "#get the time control split into two columns - Base and Incremental\n",
    "time_control_df = TOP_completed_chess_games.TimeControl.apply(lambda x: pd.Series(str(x).split(\"+\")))\n",
    "\n",
    "time_control_df = time_control_df.rename(columns={0:\"Base\", 1:\"Increment\"})\n",
    "time_control_df"
   ]
  },
  {
   "cell_type": "code",
   "execution_count": null,
   "id": "e02044df",
   "metadata": {},
   "outputs": [],
   "source": [
    "#Join old and new tables together\n",
    "time_control_split_df = pd.concat([TOP_completed_chess_games, time_control_df], axis=1)\n",
    "display(time_control_split_df.head())"
   ]
  },
  {
   "cell_type": "code",
   "execution_count": null,
   "id": "e16cd232",
   "metadata": {},
   "outputs": [],
   "source": [
    "\n",
    "#%sql SELECT * FROM chess_games WHERE Result = '*'\n",
    "%sql SELECT DISTINCT Termination FROM chess_games\n",
    "#%sql SELECT * FROM chess_games WHERE Termination = 'Rules infraction'\n",
    "#filter out Termination = Abandoned, Rules infraction, filtering out TimeControl = '-'\n",
    "\n",
    "#filter out all NaN values\n",
    "\n",
    "#separating TimeControl into 2 columns (base & additional)"
   ]
  },
  {
   "cell_type": "code",
   "execution_count": null,
   "id": "75cba71a",
   "metadata": {},
   "outputs": [],
   "source": [
    "#Creating a new table for only necessary columns\n",
    "completed_chess_games = %sql SELECT Event, Result, WhiteElo, BlackElo, (WhiteElo - BlackElo) AS WhiteRatingDiff, ECO, Opening, TimeControl, Termination \\\n",
    "FROM completed_chess_games"
   ]
  },
  {
   "cell_type": "code",
   "execution_count": null,
   "id": "541f6692",
   "metadata": {},
   "outputs": [],
   "source": [
    "completed_chess_games = completed_chess_games.dropna()\n",
    "completed_chess_games"
   ]
  },
  {
   "cell_type": "code",
   "execution_count": null,
   "id": "59af93f5",
   "metadata": {},
   "outputs": [],
   "source": [
    "#Summary Statistics and Descriptive Statistics\n",
    "#%sql top_ten_openings << SELECT Opening, COUNT(White) AS Games_Won FROM chess_games WHERE Result = '1-0' GROUP BY White, Opening ORDER BY Games_Won DESC LIMIT 10\n",
    "completed_chess_games.describe()"
   ]
  },
  {
   "cell_type": "code",
   "execution_count": null,
   "id": "4ab589ee",
   "metadata": {},
   "outputs": [],
   "source": [
    "#Opening distribution - pre slice\n",
    "opening_dist = completed_chess_games.groupby(by = 'Opening')\n",
    "opening_dist = opening_dist.count().sort_values(by = 'Event', ascending=False)\n",
    "#opening_dist\n",
    "\n",
    "opening_dist_1 = opening_dist.loc[:, ['Event']]\n",
    "opening_dist_1 = opening_dist_1.rename(columns={\"Event\":\"Count\"})\n",
    "opening_dist_1['Percent_Tot'] = opening_dist_1['Count']/len(completed_chess_games)\n",
    "opening_dist_1 = opening_dist_1[opening_dist_1['Percent_Tot'] > 0.0001]\n",
    "#opening_dist_1\n",
    "\n",
    "#2940 rows - no filter for > 0.01% of Total\n",
    "#958 rows - filter for > 0.01% of Total\n",
    "\n",
    "\n",
    "#Sliced distribution\n",
    "dist_cut = completed_chess_games[completed_chess_games['Event'].index <= len(completed_chess_games)*.10]\n",
    "\n",
    "#Opening distribution - post slice\n",
    "opening_dist_cut = dist_cut.groupby(by = 'Opening')\n",
    "opening_dist_cut = opening_dist_cut.count().sort_values(by = 'Event', ascending=False)\n",
    "#opening_dist_cut\n",
    "\n",
    "opening_dist_cut_1 = opening_dist_cut.loc[:, ['Event']]\n",
    "opening_dist_cut_1 = opening_dist_cut_1.rename(columns={\"Event\":\"CUT_Count\"})\n",
    "opening_dist_cut_1['CUT_Percent_Tot'] = opening_dist_cut_1['CUT_Count']/len(dist_cut)\n",
    "opening_dist_cut_1 = opening_dist_cut_1[opening_dist_cut_1['CUT_Percent_Tot'] > 0.0001]\n",
    "#opening_dist_cut_1\n",
    "\n",
    "#2623 rows - no filter for > 0.01% of Total\n",
    "#956 rows - filter for > 0.01% of Total\n",
    "\n",
    "\n",
    "#Joined Tables\n",
    "open_joined_opening = opening_dist_1.join(opening_dist_cut_1, on = \"Opening\")\n",
    "open_joined_opening['Percent_Diff'] = open_joined_opening['Percent_Tot'] - open_joined_opening['CUT_Percent_Tot']\n",
    "open_joined_opening\n",
    "#958 rows with NaN included\n",
    "#924 rows NaN filtered out"
   ]
  },
  {
   "cell_type": "code",
   "execution_count": null,
   "id": "dcd81d73",
   "metadata": {},
   "outputs": [],
   "source": [
    "#Time Control distribution - pre slice\n",
    "timecontrol_dist = completed_chess_games.groupby(by = 'TimeControl')\n",
    "timecontrol_dist = timecontrol_dist.count().sort_values(by = 'Event', ascending=False)\n",
    "#timecontrol_dist\n",
    "\n",
    "timecontrol_dist_1 = timecontrol_dist.loc[:, ['Event']]\n",
    "timecontrol_dist_1 = timecontrol_dist_1.rename(columns={\"Event\":\"Count\"})\n",
    "timecontrol_dist_1['Percent_Tot'] = timecontrol_dist_1['Count']/len(completed_chess_games)\n",
    "timecontrol_dist_1 = timecontrol_dist_1[timecontrol_dist_1['Percent_Tot'] > 0.0001]\n",
    "#timecontrol_dist_1\n",
    "\n",
    "#840 rows - no filter for 0.01% of Total\n",
    "#189 rows - filter for 0.01% of Totals\n",
    "\n",
    "\n",
    "#Sliced distribution\n",
    "#dist_cut = completed_chess_games[completed_chess_games['Event'].index <= len(completed_chess_games)*.10]\n",
    "\n",
    "#TimeControl distribution - post slice\n",
    "timecontrol_dist_cut = dist_cut.groupby(by = 'TimeControl')\n",
    "timecontrol_dist_cut = timecontrol_dist_cut.count().sort_values(by = 'Event', ascending=False)\n",
    "timecontrol_dist_cut\n",
    "\n",
    "\n",
    "timecontrol_dist_cut_1 = timecontrol_dist_cut.loc[:, ['Event']]\n",
    "timecontrol_dist_cut_1 = timecontrol_dist_cut_1.rename(columns={\"Event\":\"CUT_Count\"})\n",
    "timecontrol_dist_cut_1['CUT_Percent_Tot'] = timecontrol_dist_cut_1['CUT_Count']/len(dist_cut)\n",
    "timecontrol_dist_cut_1 = timecontrol_dist_cut_1[timecontrol_dist_cut_1['CUT_Percent_Tot'] > 0.0001]\n",
    "timecontrol_dist_cut_1\n",
    "\n",
    "#534 rows - no filter for > 0.01% of Total\n",
    "#182 rows - filter for > 0.01% of Total\n",
    "\n",
    "\n",
    "#Joined Tables\n",
    "tc_joined_opening = timecontrol_dist_1.join(timecontrol_dist_cut_1, on = \"TimeControl\")\n",
    "tc_joined_opening['Percent_Diff'] = tc_joined_opening['Percent_Tot'] - tc_joined_opening['CUT_Percent_Tot']\n",
    "tc_joined_opening\n",
    "\n"
   ]
  }
 ],
 "metadata": {
  "kernelspec": {
   "display_name": "Python 3 (ipykernel)",
   "language": "python",
   "name": "python3"
  },
  "language_info": {
   "codemirror_mode": {
    "name": "ipython",
    "version": 3
   },
   "file_extension": ".py",
   "mimetype": "text/x-python",
   "name": "python",
   "nbconvert_exporter": "python",
   "pygments_lexer": "ipython3",
   "version": "3.8.13"
  },
  "vscode": {
   "interpreter": {
    "hash": "8acfc4b7cd02bd99ad0ce591c9a997513fc6401f38746a12b57fee6e68bbb014"
   }
  }
 },
 "nbformat": 4,
 "nbformat_minor": 5
}
