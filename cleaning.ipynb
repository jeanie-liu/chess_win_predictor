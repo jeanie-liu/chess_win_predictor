{
 "cells": [
  {
   "cell_type": "code",
   "execution_count": 5,
   "id": "a57acad5",
   "metadata": {},
   "outputs": [
    {
     "ename": "ModuleNotFoundError",
     "evalue": "No module named 'pandas'",
     "output_type": "error",
     "traceback": [
      "\u001b[0;31m---------------------------------------------------------------------------\u001b[0m",
      "\u001b[0;31mModuleNotFoundError\u001b[0m                       Traceback (most recent call last)",
      "Cell \u001b[0;32mIn [5], line 4\u001b[0m\n\u001b[1;32m      1\u001b[0m \u001b[38;5;66;03m#import requests\u001b[39;00m\n\u001b[1;32m      2\u001b[0m \u001b[38;5;66;03m#from bs4 import BeautifulSoup\u001b[39;00m\n\u001b[0;32m----> 4\u001b[0m \u001b[38;5;28;01mimport\u001b[39;00m \u001b[38;5;21;01mpandas\u001b[39;00m \u001b[38;5;28;01mas\u001b[39;00m \u001b[38;5;21;01mpd\u001b[39;00m\n\u001b[1;32m      5\u001b[0m \u001b[38;5;28;01mimport\u001b[39;00m \u001b[38;5;21;01mnumpy\u001b[39;00m \u001b[38;5;28;01mas\u001b[39;00m \u001b[38;5;21;01mnp\u001b[39;00m\n\u001b[1;32m      6\u001b[0m \u001b[38;5;28;01mimport\u001b[39;00m \u001b[38;5;21;01mtime\u001b[39;00m\n",
      "\u001b[0;31mModuleNotFoundError\u001b[0m: No module named 'pandas'"
     ]
    }
   ],
   "source": [
    "#import requests\n",
    "#from bs4 import BeautifulSoup\n",
    "\n",
    "import pandas as pd\n",
    "import numpy as np\n",
    "import time\n",
    "\n",
    "import seaborn\n",
    "from matplotlib import pyplot\n",
    "\n",
    "from sklearn.linear_model import LogisticRegression\n",
    "\n",
    "%load_ext sql\n",
    "\n",
    "%config SqlMagic.autopandas = True\n",
    "%config SqlMagic.feedback = False\n",
    "%config SqlMagic.displaycon = False\n",
    "\n",
    "%sql duckdb:///:memory:"
   ]
  },
  {
   "cell_type": "code",
   "execution_count": null,
   "id": "7daefe44",
   "metadata": {},
   "outputs": [],
   "source": [
    "chess_games = pd.read_csv('chess_games.csv')"
   ]
  },
  {
   "cell_type": "code",
   "execution_count": null,
   "id": "5f3ee458",
   "metadata": {},
   "outputs": [],
   "source": [
    "#Data Cleaning - convert date and time columns to datatime objects\n",
    "chess_games['UTCDate'] = pd.to_datetime(chess_games['UTCDate'])\n",
    "chess_games['UTCTime'] = pd.to_datetime(chess_games['UTCTime'])\n",
    "\n",
    "#display(chess_games)\n",
    "#chess_games['Event'] = chess_games['Event'].astype(str)\n",
    "\n",
    "#chess_games['ECO'] = chess_games['ECO'].astype('|S')\n",
    "display(chess_games.head())\n",
    "print(chess_games.dtypes)"
   ]
  },
  {
   "cell_type": "code",
   "execution_count": null,
   "id": "af011fb9",
   "metadata": {},
   "outputs": [],
   "source": [
    "#checking for unusual values\n",
    "#%sql SELECT * FROM chess_games WHERE Result = '*'\n",
    "#%sql SELECT DISTINCT Termination FROM chess_games\n",
    "#%sql SELECT * FROM chess_games WHERE Termination = 'Rules infraction'\n",
    "\n",
    "#filter out Termination = Abandoned, Rules infraction, filtering out TimeControl = '-'\n",
    "#checking that there are no games where result is * (meaning incomplete)\n",
    "completed_chess_games = %sql SELECT * FROM chess_games \\\n",
    "WHERE Termination NOT IN ('Abandoned', 'Rules Infraction') \\\n",
    "    AND TimeControl != '-' \\\n",
    "    AND Result != '*'\n",
    "\n",
    "\n",
    "#display(completed_chess_games.head())\n",
    "\n",
    "\n",
    "\n",
    "#separating TimeControl into 2 columns (base & additional)"
   ]
  },
  {
   "cell_type": "code",
   "execution_count": null,
   "id": "32a8ce41",
   "metadata": {},
   "outputs": [],
   "source": [
    "#filter out all NaN values\n",
    "completed_chess_games = completed_chess_games.dropna()\n",
    "completed_chess_games.head()"
   ]
  },
  {
   "cell_type": "code",
   "execution_count": null,
   "id": "2b26e20c",
   "metadata": {},
   "outputs": [],
   "source": [
    "#separating TimeControl into 2 columns (base & additional)\n",
    "TOP_completed_chess_games = completed_chess_games.head(10)"
   ]
  },
  {
   "cell_type": "code",
   "execution_count": null,
   "id": "adc0874a",
   "metadata": {},
   "outputs": [],
   "source": [
    "#get the time control split into two columns - Base and Incremental\n",
    "time_control_df = TOP_completed_chess_games.TimeControl.apply(lambda x: pd.Series(str(x).split(\"+\")))\n",
    "\n",
    "time_control_df = time_control_df.rename(columns={0:\"Base\", 1:\"Increment\"})\n",
    "time_control_df"
   ]
  },
  {
   "cell_type": "code",
   "execution_count": null,
   "id": "e02044df",
   "metadata": {},
   "outputs": [],
   "source": [
    "#Join old and new tables together\n",
    "time_control_split_df = pd.concat([TOP_completed_chess_games, time_control_df], axis=1)\n",
    "display(time_control_split_df.head())"
   ]
  },
  {
   "cell_type": "code",
   "execution_count": null,
   "id": "e16cd232",
   "metadata": {},
   "outputs": [],
   "source": [
    "\n",
    "#%sql SELECT * FROM chess_games WHERE Result = '*'\n",
    "%sql SELECT DISTINCT Termination FROM chess_games\n",
    "#%sql SELECT * FROM chess_games WHERE Termination = 'Rules infraction'\n",
    "#filter out Termination = Abandoned, Rules infraction, filtering out TimeControl = '-'\n",
    "\n",
    "#filter out all NaN values\n",
    "\n",
    "#separating TimeControl into 2 columns (base & additional)"
   ]
  },
  {
   "cell_type": "code",
   "execution_count": null,
   "id": "59af93f5",
   "metadata": {},
   "outputs": [],
   "source": [
    "#Summary Statistics and Descriptive Statistics\n",
    "#%sql top_ten_openings << SELECT Opening, COUNT(White) AS Games_Won FROM chess_games WHERE Result = '1-0' GROUP BY White, Opening ORDER BY Games_Won DESC LIMIT 10\n",
    "\n"
   ]
  },
  {
   "cell_type": "code",
   "execution_count": null,
   "id": "75cba71a",
   "metadata": {},
   "outputs": [],
   "source": []
  }
 ],
 "metadata": {
  "kernelspec": {
   "display_name": "Python 3.8.9 64-bit",
   "language": "python",
   "name": "python3"
  },
  "language_info": {
   "codemirror_mode": {
    "name": "ipython",
    "version": 3
   },
   "file_extension": ".py",
   "mimetype": "text/x-python",
   "name": "python",
   "nbconvert_exporter": "python",
   "pygments_lexer": "ipython3",
   "version": "3.8.9"
  },
  "vscode": {
   "interpreter": {
    "hash": "31f2aee4e71d21fbe5cf8b01ff0e069b9275f58929596ceb00d14d90e3e16cd6"
   }
  }
 },
 "nbformat": 4,
 "nbformat_minor": 5
}
